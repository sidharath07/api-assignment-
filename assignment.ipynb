{
 "cells": [
  {
   "cell_type": "code",
   "execution_count": null,
   "id": "a6456f58-1c51-4737-8674-769e52eb413f",
   "metadata": {},
   "outputs": [],
   "source": [
    "# what is API :- applicton programing interface.\n",
    "# :- An API, or Application Programming Interface, is a server \n",
    "# # that you can use to retrieve and send data to using code. APIs are most commonly used to retrieve data, and \n",
    "# # that will be the focus of this beginner tutorial.\n",
    "# # When we want to receive data from an API, we need to make a request. Requests are used all over the web."
   ]
  },
  {
   "cell_type": "code",
   "execution_count": 2,
   "id": "9d7e9340-d707-4bff-a67c-1e261067d576",
   "metadata": {},
   "outputs": [],
   "source": [
    "# API used in :- example :- Uber , Rapido , zomato and ola etc these aap use api of  google map aap."
   ]
  },
  {
   "cell_type": "code",
   "execution_count": null,
   "id": "a5ddfa15-7f20-4033-97c5-297195c590c2",
   "metadata": {},
   "outputs": [],
   "source": [
    "# # advantage and disadvantage of API:-\n",
    "# advantage :-  throught  api  we interface  any appliction and use this programings code easly .\n",
    "# disadvantage :- creating API is avery time_consuming process.\n"
   ]
  },
  {
   "cell_type": "code",
   "execution_count": 1,
   "id": "8bdfd13f-7723-4a8b-b3a6-210d6983259d",
   "metadata": {},
   "outputs": [],
   "source": [
    "# # what is web API :- An API , which is interface for web is colled as web API.\n",
    "# web api works from the webside to excute any code / data take from interface  webside.\n"
   ]
  },
  {
   "cell_type": "code",
   "execution_count": 3,
   "id": "e3f797b5-f905-4554-8a6a-dcd1df6cf7b1",
   "metadata": {},
   "outputs": [],
   "source": [
    "# # # # deffrance between API and  Web API : -\n",
    "# # # # 1. webservice always need network for its operation but API may or may not need network for its oprations\n",
    "# # # 2. webservice can be used by folling communication soap,rest , xml , rpc \n",
    "# # but api can be communicated through other ways like Curl calls.\n",
    "# 3. API can be also be exposed in number of way like JAR ,DLL , XML, over XML RPC \n",
    "# 4. all api can be consider as web service but all web service are not API"
   ]
  },
  {
   "cell_type": "code",
   "execution_count": 2,
   "id": "50921799-bf4e-4c76-bbde-5e3d120d7717",
   "metadata": {},
   "outputs": [],
   "source": [
    "# # diffence between rest and soap :-\n",
    "#              soap                        and                  rest\n",
    "# 1. style :- protocal                                    ARchitectural style\n",
    "\n",
    "# 2. function :-   function- driven transfer              data-driven: exces a resoures for data \n",
    "# structured  information\n",
    "\n",
    "# 3. data format :- only use XML                          permits many data formats, \n",
    "#                                                         including plain text , HTML , XML and JSON \n",
    " \n",
    "# 4. security :- supports WS-Security and SSL             supports SSL and HTTPS  \n",
    "\n",
    "# 5. data cache :- can not be cached                      can be cached \n",
    "\n",
    "\n",
    "\n"
   ]
  },
  {
   "cell_type": "code",
   "execution_count": null,
   "id": "dee238bb-2dcb-4461-b50e-2ad84bbed099",
   "metadata": {},
   "outputs": [],
   "source": []
  }
 ],
 "metadata": {
  "kernelspec": {
   "display_name": "Python 3 (ipykernel)",
   "language": "python",
   "name": "python3"
  },
  "language_info": {
   "codemirror_mode": {
    "name": "ipython",
    "version": 3
   },
   "file_extension": ".py",
   "mimetype": "text/x-python",
   "name": "python",
   "nbconvert_exporter": "python",
   "pygments_lexer": "ipython3",
   "version": "3.10.8"
  }
 },
 "nbformat": 4,
 "nbformat_minor": 5
}
